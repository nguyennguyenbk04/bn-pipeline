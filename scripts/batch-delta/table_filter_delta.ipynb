{
 "cells": [
  {
   "cell_type": "markdown",
   "id": "c93dc04b",
   "metadata": {},
   "source": [
    "# Delta Table Filter\n",
    "\n",
    "This notebook filters data from the **Bronze Delta Lake tables** and prepares it for the Silver layer.\n",
    "\n",
    "**Important**: Ensure that the filtering logic aligns with the business requirements for data transformation."
   ]
  },
  {
   "cell_type": "code",
   "execution_count": null,
   "id": "07dc0fc7",
   "metadata": {},
   "outputs": [],
   "source": [
    "import os\n",
    "os.environ['PYSPARK_SUBMIT_ARGS'] = (\n",
    "    f\"--jars /path/to/your/jars/hadoop-common-3.3.6.jar,\"  # <-- Add this line\n",
    "    f\"/path/to/your/jars/hadoop-azure-3.3.6.jar,\"\n",
    "    f\"/path/to/your/jars/azure-storage-8.6.6.jar,\"\n",
    "    f\"/path/to/your/jars/jetty-client-9.4.43.v20210629.jar,\"\n",
    "    f\"/path/to/your/jars/jetty-http-9.4.43.v20210629.jar,\"\n",
    "    f\"/path/to/your/jars/jetty-io-9.4.43.v20210629.jar,\"\n",
    "    f\"/path/to/your/jars/jetty-util-9.4.43.v20210629.jar,\"\n",
    "    f\"/path/to/your/jars/jetty-util-ajax-9.4.43.v20210629.jar \"\n",
    "    \"--packages io.delta:delta-spark_2.12:3.0.0 \"\n",
    "    \"pyspark-shell\"\n",
    ")"
   ]
  },
  {
   "cell_type": "code",
   "execution_count": 2,
   "id": "7760f686",
   "metadata": {},
   "outputs": [
    {
     "name": "stderr",
     "output_type": "stream",
     "text": [
      "25/07/22 16:41:32 WARN Utils: Your hostname, lenovo-slim resolves to a loopback address: 127.0.1.1; using 192.168.199.13 instead (on interface wlp2s0)\n",
      "25/07/22 16:41:32 WARN Utils: Set SPARK_LOCAL_IP if you need to bind to another address\n"
     ]
    },
    {
     "name": "stdout",
     "output_type": "stream",
     "text": [
      ":: loading settings :: url = jar:file:/home/bnguyen/Desktop/DE_project/venv/lib/python3.12/site-packages/pyspark/jars/ivy-2.5.1.jar!/org/apache/ivy/core/settings/ivysettings.xml\n"
     ]
    },
    {
     "name": "stderr",
     "output_type": "stream",
     "text": [
      "Ivy Default Cache set to: /home/bnguyen/.ivy2/cache\n",
      "The jars for the packages stored in: /home/bnguyen/.ivy2/jars\n",
      "io.delta#delta-spark_2.12 added as a dependency\n",
      ":: resolving dependencies :: org.apache.spark#spark-submit-parent-d351d405-16bf-4855-9465-707005b762c9;1.0\n",
      "\tconfs: [default]\n",
      "\tfound io.delta#delta-spark_2.12;3.0.0 in central\n",
      "\tfound io.delta#delta-storage;3.0.0 in central\n",
      "\tfound org.antlr#antlr4-runtime;4.9.3 in central\n",
      ":: resolution report :: resolve 134ms :: artifacts dl 4ms\n",
      "\t:: modules in use:\n",
      "\tio.delta#delta-spark_2.12;3.0.0 from central in [default]\n",
      "\tio.delta#delta-storage;3.0.0 from central in [default]\n",
      "\torg.antlr#antlr4-runtime;4.9.3 from central in [default]\n",
      "\t---------------------------------------------------------------------\n",
      "\t|                  |            modules            ||   artifacts   |\n",
      "\t|       conf       | number| search|dwnlded|evicted|| number|dwnlded|\n",
      "\t---------------------------------------------------------------------\n",
      "\t|      default     |   3   |   0   |   0   |   0   ||   3   |   0   |\n",
      "\t---------------------------------------------------------------------\n",
      ":: retrieving :: org.apache.spark#spark-submit-parent-d351d405-16bf-4855-9465-707005b762c9\n",
      "\tconfs: [default]\n",
      "\t0 artifacts copied, 3 already retrieved (0kB/4ms)\n",
      "25/07/22 16:41:43 WARN NativeCodeLoader: Unable to load native-hadoop library for your platform... using builtin-java classes where applicable\n",
      "Setting default log level to \"WARN\".\n",
      "To adjust logging level use sc.setLogLevel(newLevel). For SparkR, use setLogLevel(newLevel).\n",
      "25/07/22 16:41:43 WARN NativeCodeLoader: Unable to load native-hadoop library for your platform... using builtin-java classes where applicable\n",
      "Setting default log level to \"WARN\".\n",
      "To adjust logging level use sc.setLogLevel(newLevel). For SparkR, use setLogLevel(newLevel).\n"
     ]
    },
    {
     "name": "stdout",
     "output_type": "stream",
     "text": [
      "✅ Spark session with Delta Lake support initialized\n"
     ]
    }
   ],
   "source": [
    "# Init spark session with Delta Lake support\n",
    "spark = (SparkSession.builder \n",
    "    .appName(\"Bronze to Silver: Delta Table Filter\") \n",
    "    .config(\"spark.sql.extensions\", \"io.delta.sql.DeltaSparkSessionExtension\")\n",
    "    .config(\"spark.sql.catalog.spark_catalog\", \"org.apache.spark.sql.delta.catalog.DeltaCatalog\")\n",
    "    .config(\"spark.databricks.delta.schema.autoMerge.enabled\", \"true\")  # Allow schema evolution\n",
    "    .config(\"spark.sql.parquet.enableVectorizedReader\", \"false\")  # Disable vectorized reader to avoid type conflicts\n",
    "    .getOrCreate())\n",
    "\n",
    "print(\"✅ Spark session with Delta Lake support initialized\")"
   ]
  },
  {
   "cell_type": "code",
   "execution_count": null,
   "id": "3128d284",
   "metadata": {},
   "outputs": [
    {
     "name": "stdout",
     "output_type": "stream",
     "text": [
      "✅ Azure storage credentials configured\n"
     ]
    }
   ],
   "source": [
    "# Configure Azure storage access keys for bronze and silver\n",
    "\n",
    "# Bronze access key\n",
    "spark.conf.set(\n",
    "    \"fs.azure.account.key.YOUR_BRONZE_STORAGE_ACCOUNT.dfs.core.windows.net\",\n",
    "    \"YOUR_AZURE_BRONZE_STORAGE_KEY\"\n",
    ")\n",
    "\n",
    "# Silver access key\n",
    "spark.conf.set(\n",
    "    \"fs.azure.account.key.YOUR_SILVER_STORAGE_ACCOUNT.dfs.core.windows.net\",\n",
    "    \"YOUR_AZURE_SILVER_STORAGE_KEY\"\n",
    ")\n",
    "\n",
    "print(\"Azure storage credentials configured\")"
   ]
  },
  {
   "cell_type": "code",
   "execution_count": null,
   "id": "b24dc54c",
   "metadata": {},
   "outputs": [
    {
     "name": "stdout",
     "output_type": "stream",
     "text": [
      " Processing 9 tables in Delta Lake format\n",
      " Source: bronze-delta container (Delta format)\n",
      " Target: silver-delta container (Delta format)\n"
     ]
    }
   ],
   "source": [
    "# Define storage accounts and containers for Delta Lake\n",
    "storage_account_bronze = \"YOUR_BRONZE_STORAGE_ACCOUNT\"\n",
    "bronze_delta_container = \"bronze-delta\"  # Source: Existing Delta tables\n",
    "storage_account_silver = \"YOUR_SILVER_STORAGE_ACCOUNT\"\n",
    "silver_delta_container = \"silver-delta\"  # Target: Delta format container\n",
    "\n",
    "tables = [\"Customers\", \"Products\", \"ProductCategories\", \"Sellers\", \"Addresses\", \n",
    "          \"Inventory\", \"ShoppingCarts\", \"CartItems\", \"Orders\", \"OrderItems\", \n",
    "          \"Payments\", \"PaymentMethods\", \"OrderStatus\", \"Reviews\", \"Reasons\"]\n",
    "\n",
    "print(f\" Processing {len(tables)} tables in Delta Lake format\")\n",
    "print(f\" Source: {bronze_delta_container} container (Delta format)\")\n",
    "print(f\" Target: {silver_delta_container} container (Delta format)\")"
   ]
  },
  {
   "cell_type": "code",
   "execution_count": null,
   "id": "70eb924d",
   "metadata": {},
   "outputs": [
    {
     "name": "stdout",
     "output_type": "stream",
     "text": [
      "🚀 Starting Delta Lake processing...\n",
      "\n",
      "📋 Processing Customers...\n"
     ]
    },
    {
     "name": "stderr",
     "output_type": "stream",
     "text": [
      "25/07/22 16:41:55 WARN SparkStringUtils: Truncated the string representation of a plan since it was too large. This behavior can be adjusted by setting 'spark.sql.debug.maxToStringFields'.\n",
      "25/07/22 16:41:55 WARN SparkStringUtils: Truncated the string representation of a plan since it was too large. This behavior can be adjusted by setting 'spark.sql.debug.maxToStringFields'.\n",
      "                                                                                \r"
     ]
    },
    {
     "name": "stdout",
     "output_type": "stream",
     "text": [
      "   Read 7000 records from bronze-delta\n"
     ]
    },
    {
     "name": "stderr",
     "output_type": "stream",
     "text": [
      "25/07/22 16:42:00 WARN GarbageCollectionMetrics: To enable non-built-in garbage collector(s) List(G1 Concurrent GC), users should configure it(them) to spark.eventLog.gcMetrics.youngGenerationGarbageCollectors or spark.eventLog.gcMetrics.oldGenerationGarbageCollectors\n",
      "                                                                                \r"
     ]
    },
    {
     "name": "stdout",
     "output_type": "stream",
     "text": [
      "   Written 7000 records to silver-delta\n",
      "   Destination: abfss://silver-delta@mysilver.dfs.core.windows.net/Customers\n",
      "\n",
      "📋 Processing Products...\n"
     ]
    }
   ],
   "source": [
    "# Process all tables: Copy from bronze-delta to silver-delta (Both Delta format)\n",
    "# This reads from existing Delta tables and outputs to silver-delta container\n",
    "\n",
    "print(\"Starting Delta Lake processing...\\n\")\n",
    "\n",
    "for table in tables:\n",
    "    bronze_delta_path = f\"abfss://{bronze_delta_container}@{storage_account_bronze}.dfs.core.windows.net/{table}\"\n",
    "    silver_delta_path = f\"abfss://{silver_delta_container}@{storage_account_silver}.dfs.core.windows.net/{table}\"\n",
    "\n",
    "    print(f\" Processing {table}...\")\n",
    "    \n",
    "    try:\n",
    "        # Read from bronze-delta using Delta format\n",
    "        df = spark.read.format(\"delta\").load(bronze_delta_path)\n",
    "        record_count = df.count()\n",
    "        \n",
    "        print(f\"   Read {record_count} records from bronze-delta\")\n",
    "        \n",
    "        # Write to silver-delta using Delta format with overwrite mode\n",
    "        df.write.format(\"delta\").mode(\"overwrite\").save(silver_delta_path)\n",
    "        \n",
    "        print(f\"   Written {record_count} records to silver-delta\")\n",
    "        print(f\"   Destination: {silver_delta_path}\\n\")\n",
    "        \n",
    "    except Exception as e:\n",
    "        print(f\"   Error processing {table}: {e}\\n\")"
   ]
  }
 ],
 "metadata": {
  "kernelspec": {
   "display_name": "venv (3.12.3)",
   "language": "python",
   "name": "python3"
  },
  "language_info": {
   "codemirror_mode": {
    "name": "ipython",
    "version": 3
   },
   "file_extension": ".py",
   "mimetype": "text/x-python",
   "name": "python",
   "nbconvert_exporter": "python",
   "pygments_lexer": "ipython3",
   "version": "3.12.3"
  }
 },
 "nbformat": 4,
 "nbformat_minor": 5
}
