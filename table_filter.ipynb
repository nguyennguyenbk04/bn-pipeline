{
 "cells": [
  {
   "cell_type": "code",
   "execution_count": 1,
   "id": "10193482",
   "metadata": {},
   "outputs": [],
   "source": [
    "import os\n",
    "from pyspark.sql import SparkSession\n",
    "\n",
    "# Set environment vars to load jars\n",
    "os.environ[\"PYSPARK_SUBMIT_ARGS\"] = (\n",
    "    \"--jars jars/hadoop-azure-3.3.6.jar,\" # Hadoop connector (wasb + wasbs)\n",
    "    \"jars/azure-storage-8.6.6.jar,\" # Azure SDK for Java (allow communication between Hadoop, Spark with Blobs Storage)\n",
    "    \"jars/jetty-client-9.4.43.v20210629.jar,\" # I don't know...\n",
    "    \"jars/jetty-http-9.4.43.v20210629.jar,\" ###############\n",
    "    \"jars/jetty-io-9.4.43.v20210629.jar,\" #################\n",
    "    \"jars/jetty-util-9.4.43.v20210629.jar,\" ################\n",
    "    \"jars/jetty-util-ajax-9.4.43.v20210629.jar \" ############\n",
    "    \"pyspark-shell\"\n",
    ")\n"
   ]
  },
  {
   "cell_type": "code",
   "execution_count": 2,
   "id": "43624bb5",
   "metadata": {},
   "outputs": [
    {
     "name": "stderr",
     "output_type": "stream",
     "text": [
      "WARNING: Using incubator modules: jdk.incubator.vector\n",
      "Using Spark's default log4j profile: org/apache/spark/log4j2-defaults.properties\n",
      "25/07/07 13:45:40 WARN Utils: Your hostname, lenovo-slim, resolves to a loopback address: 127.0.1.1; using 192.168.199.13 instead (on interface wlp2s0)\n",
      "25/07/07 13:45:40 WARN Utils: Set SPARK_LOCAL_IP if you need to bind to another address\n",
      "25/07/07 13:45:41 WARN NativeCodeLoader: Unable to load native-hadoop library for your platform... using builtin-java classes where applicable\n",
      "Using Spark's default log4j profile: org/apache/spark/log4j2-defaults.properties\n",
      "Setting default log level to \"WARN\".\n",
      "To adjust logging level use sc.setLogLevel(newLevel). For SparkR, use setLogLevel(newLevel).\n"
     ]
    }
   ],
   "source": [
    "# Init spark session\n",
    "spark = SparkSession.builder \\\n",
    "    .appName(\"Bronze to Silver: Table filter\") \\\n",
    "    .getOrCreate()"
   ]
  },
  {
   "cell_type": "code",
   "execution_count": 3,
   "id": "461e282f",
   "metadata": {},
   "outputs": [],
   "source": [
    "# Bronze access key\n",
    "spark.conf.set(\n",
    "    \"fs.azure.account.key.mybronze.blob.core.windows.net\",\n",
    "    \"c5etqTidViezB/4ukOAALy23HeMBsJJ8g+2nFaIdbC7E9PhLw0y2YIA1ItjutpqS1/8Ga8fw40mR+ASt2T+/sw==\"\n",
    ")\n",
    "\n",
    "# Silver access key\n",
    "spark.conf.set(\n",
    "    \"fs.azure.account.key.mysilver.dfs.core.windows.net\",\n",
    "    \"bAthp0pVBfqEtyCvJElSX7MeI7ejSLa6cjuPoMz0Gg/69uzEW01y4URMDXsdFCrkpc9M54cDHnXs+AStj1gExQ==\"\n",
    ")"
   ]
  },
  {
   "cell_type": "code",
   "execution_count": 4,
   "id": "daccc500",
   "metadata": {},
   "outputs": [
    {
     "name": "stderr",
     "output_type": "stream",
     "text": [
      "25/07/07 13:45:55 WARN MetricsConfig: Cannot locate configuration: tried hadoop-metrics2-azure-file-system.properties,hadoop-metrics2.properties\n",
      "                                                                                \r"
     ]
    }
   ],
   "source": [
    "# Test\n",
    "df = spark.read.parquet(\"wasbs://bronze@mybronze.blob.core.windows.net/Payments\")"
   ]
  },
  {
   "cell_type": "code",
   "execution_count": 5,
   "id": "2b8100b4",
   "metadata": {},
   "outputs": [
    {
     "name": "stderr",
     "output_type": "stream",
     "text": [
      "[Stage 1:>                                                          (0 + 1) / 1]\r"
     ]
    },
    {
     "name": "stdout",
     "output_type": "stream",
     "text": [
      "+---------+-------+---------------+------+-------------------+-------------------+\n",
      "|PaymentID|OrderID|PaymentMethodID|Amount|          CreatedAt|          UpdatedAt|\n",
      "+---------+-------+---------------+------+-------------------+-------------------+\n",
      "|        1|      2|              5|   504|2024-09-23 06:38:26|2025-03-03 12:07:14|\n",
      "|        2|      3|              4|   431|2024-11-16 01:10:46|2025-02-02 13:18:55|\n",
      "|        3|      4|              4|   854|2025-04-07 00:14:45|2025-06-10 22:13:02|\n",
      "|        4|      5|              5|   542|2025-01-15 17:20:21|2025-02-07 20:01:52|\n",
      "|        5|      6|              5|   633|2024-12-29 21:55:54|2025-01-21 12:12:50|\n",
      "|        6|      7|              3|   866|2025-02-11 04:47:16|2025-03-09 18:12:05|\n",
      "|        7|      8|              5|   722|2025-03-30 01:26:14|2025-06-24 16:45:27|\n",
      "|        8|      9|              2|   152|2024-12-13 04:29:01|2025-03-15 03:47:35|\n",
      "|        9|     10|              5|   218|2024-08-26 05:37:02|2025-03-22 14:26:55|\n",
      "|       10|     12|              3|    85|2025-02-18 13:03:46|2025-04-20 15:02:16|\n",
      "|       11|     13|              2|   230|2025-01-31 22:24:31|2025-05-05 22:29:20|\n",
      "|       12|     15|              2|   634|2024-09-09 13:36:44|2024-11-01 10:31:39|\n",
      "|       13|     16|              4|   861|2025-05-27 11:46:27|2025-06-21 05:00:58|\n",
      "|       14|     17|              5|   103|2025-03-31 07:40:07|2025-06-02 03:25:19|\n",
      "|       15|     18|              5|   987|2025-07-03 09:59:27|2025-07-03 19:17:46|\n",
      "|       16|     20|              3|   351|2024-10-04 14:16:15|2025-03-01 12:11:20|\n",
      "|       17|     21|              4|   454|2025-06-22 23:28:01|2025-07-03 06:44:20|\n",
      "|       18|     23|              2|   188|2024-10-10 09:15:29|2024-11-22 22:06:59|\n",
      "|       19|     24|              1|   495|2024-07-06 02:57:35|2024-12-08 23:13:09|\n",
      "|       20|     25|              5|    34|2024-08-24 09:07:53|2025-01-05 02:06:50|\n",
      "+---------+-------+---------------+------+-------------------+-------------------+\n",
      "only showing top 20 rows\n"
     ]
    },
    {
     "name": "stderr",
     "output_type": "stream",
     "text": [
      "                                                                                \r"
     ]
    }
   ],
   "source": [
    "# Test\n",
    "df.show()"
   ]
  },
  {
   "cell_type": "code",
   "execution_count": null,
   "id": "b508048a",
   "metadata": {},
   "outputs": [
    {
     "name": "stderr",
     "output_type": "stream",
     "text": [
      "                                                                                \r"
     ]
    }
   ],
   "source": [
    "df.write.mode(\"overwrite\").parquet(f\"abfss://silver@mysilver.dfs.core.windows.net/Payments\")"
   ]
  },
  {
   "cell_type": "code",
   "execution_count": null,
   "id": "af3e3497",
   "metadata": {},
   "outputs": [],
   "source": [
    "# Define storage account \n",
    "storage_account_bronze = \"mybronze\"\n",
    "bronze_container = \"bronze\"\n",
    "storage_account_silver = \"mysilver\"\n",
    "silver_container = \"silver\"\n",
    "\n",
    "tables = [\"Customers\", \"Products\", \n",
    "          \"Sellers\", \"Orders\", \n",
    "          \"OrderItems\",\"ProductCategories\",\n",
    "          \"OrderStatus\",\"Reasons\", \"Payments\"]\n"
   ]
  },
  {
   "cell_type": "code",
   "execution_count": 11,
   "id": "8a17c52a",
   "metadata": {},
   "outputs": [
    {
     "name": "stdout",
     "output_type": "stream",
     "text": [
      "Processing Customers...\n"
     ]
    },
    {
     "name": "stderr",
     "output_type": "stream",
     "text": [
      "                                                                                \r"
     ]
    },
    {
     "name": "stdout",
     "output_type": "stream",
     "text": [
      "Written to abfss://silver@mysilver.dfs.core.windows.net/Customers\n",
      "Processing Products...\n"
     ]
    },
    {
     "name": "stderr",
     "output_type": "stream",
     "text": [
      "                                                                                \r"
     ]
    },
    {
     "name": "stdout",
     "output_type": "stream",
     "text": [
      "Written to abfss://silver@mysilver.dfs.core.windows.net/Products\n",
      "Processing Sellers...\n"
     ]
    },
    {
     "name": "stderr",
     "output_type": "stream",
     "text": [
      "                                                                                \r"
     ]
    },
    {
     "name": "stdout",
     "output_type": "stream",
     "text": [
      "Written to abfss://silver@mysilver.dfs.core.windows.net/Sellers\n",
      "Processing Orders...\n"
     ]
    },
    {
     "name": "stderr",
     "output_type": "stream",
     "text": [
      "                                                                                \r"
     ]
    },
    {
     "name": "stdout",
     "output_type": "stream",
     "text": [
      "Written to abfss://silver@mysilver.dfs.core.windows.net/Orders\n",
      "Processing OrderItems...\n"
     ]
    },
    {
     "name": "stderr",
     "output_type": "stream",
     "text": [
      "                                                                                \r"
     ]
    },
    {
     "name": "stdout",
     "output_type": "stream",
     "text": [
      "Written to abfss://silver@mysilver.dfs.core.windows.net/OrderItems\n",
      "Processing ProductCategories...\n"
     ]
    },
    {
     "name": "stderr",
     "output_type": "stream",
     "text": [
      "                                                                                \r"
     ]
    },
    {
     "name": "stdout",
     "output_type": "stream",
     "text": [
      "Written to abfss://silver@mysilver.dfs.core.windows.net/ProductCategories\n",
      "Processing OrderStatus...\n"
     ]
    },
    {
     "name": "stderr",
     "output_type": "stream",
     "text": [
      "                                                                                \r"
     ]
    },
    {
     "name": "stdout",
     "output_type": "stream",
     "text": [
      "Written to abfss://silver@mysilver.dfs.core.windows.net/OrderStatus\n",
      "Processing Reasons...\n"
     ]
    },
    {
     "name": "stderr",
     "output_type": "stream",
     "text": [
      "                                                                                \r"
     ]
    },
    {
     "name": "stdout",
     "output_type": "stream",
     "text": [
      "Written to abfss://silver@mysilver.dfs.core.windows.net/Reasons\n"
     ]
    }
   ],
   "source": [
    "for table in tables:\n",
    "    bronze_path = f\"wasbs://{bronze_container}@{storage_account_bronze}.blob.core.windows.net/{table}\"\n",
    "    silver_path = f\"abfss://{silver_container}@{storage_account_silver}.dfs.core.windows.net/{table}\"\n",
    "\n",
    "    print(f\"Processing {table}...\")\n",
    "    \n",
    "    df = spark.read.parquet(bronze_path)\n",
    "    df.write.mode(\"overwrite\").parquet(silver_path)\n",
    "\n",
    "    print(f\"Written to {silver_path}\")\n",
    "\n",
    "    \n",
    "    "
   ]
  }
 ],
 "metadata": {
  "kernelspec": {
   "display_name": "venv",
   "language": "python",
   "name": "python3"
  },
  "language_info": {
   "codemirror_mode": {
    "name": "ipython",
    "version": 3
   },
   "file_extension": ".py",
   "mimetype": "text/x-python",
   "name": "python",
   "nbconvert_exporter": "python",
   "pygments_lexer": "ipython3",
   "version": "3.12.3"
  }
 },
 "nbformat": 4,
 "nbformat_minor": 5
}
